{
 "cells": [
  {
   "cell_type": "markdown",
   "metadata": {},
   "source": [
    "# Microstructural Materials Science \n",
    "\n",
    "## Introduction\n",
    "The art of materials science is fundamentally rooted in their hierarchical structures across different length and time scales. The properties of materials not only depend on their chemistry, they are also signifcantly affected by different processing routes which lead to different microstructures. For example, slow cooling of steels from high temperature austenitic phase to the ambinent temperature lead to the formation of soft and malleable structures of combination of ferritie, carbide, and pearlite, depending on the carbon contnt. However, fast cooling of the same steel would lead to the formation of hard yet brittle structures, often termed as martensite.Metallurgists and bladesmith have known this trick for a very long time. However, the understandings of microstructure, especially their origin and evolution, are only made possible in recent decades due to the advancement of characterization techniques such as electron microscopy. Today, bridging between the microstructure and the macroscopic properties already became a underlying philosophy of materials science.   "
   ]
  },
  {
   "cell_type": "code",
   "execution_count": null,
   "metadata": {},
   "outputs": [],
   "source": []
  },
  {
   "cell_type": "markdown",
   "metadata": {},
   "source": [
    "## Table of Contents\n",
    "\n",
    "- Chapter 1 Imperfections in Solids\n",
    "  - Classification of Imperfections\n",
    "  - Structures of Imperfections\n",
    "  - Evolution of Imperfections\n",
    "  - Perspective: Imperfection Enginnering\n",
    "- Chapter 2 Nucleation\n",
    "- Chapter 3 Microstructural Mechansim of the Mechanical Behavior\n"
   ]
  },
  {
   "cell_type": "markdown",
   "metadata": {},
   "source": [
    "# Chapter 1. Imperfections in Solids\n",
    "\n",
    "Crystals are solids with long range perodic arrangements of atoms. Depending on the structure of the lattice, crystalline materials can exhibit translational and/or rotational symmetries which will fill the whole space. However, crystals are almost never perfect. From time to time, the local symmetry of the crystalline lattice are interrupted by some structure pecularities, which are usually called imperfections or defects. Since the developpment of imperfections are almost inevitable, the material propertiesone need to develop a systematic understanding of these imperfections"
   ]
  },
  {
   "cell_type": "markdown",
   "metadata": {},
   "source": [
    "## 1.1. Classification of Imperfections"
   ]
  },
  {
   "cell_type": "markdown",
   "metadata": {},
   "source": [
    "We often classify defects in a otherwise perfect crystalline materials based on their spatial dimensions. Zero dimension defects include vacancies and interstitials"
   ]
  },
  {
   "cell_type": "code",
   "execution_count": null,
   "metadata": {},
   "outputs": [],
   "source": []
  },
  {
   "cell_type": "code",
   "execution_count": null,
   "metadata": {},
   "outputs": [],
   "source": []
  },
  {
   "cell_type": "code",
   "execution_count": null,
   "metadata": {},
   "outputs": [],
   "source": []
  },
  {
   "cell_type": "code",
   "execution_count": null,
   "metadata": {},
   "outputs": [],
   "source": []
  },
  {
   "cell_type": "markdown",
   "metadata": {},
   "source": [
    "## Schematic drawing of an edge dislocation\n",
    "![alt text](https://www.enggstudy.com/wp-content/uploads/2019/10/diagrams-2Bof-2Bedge-2Band-2Bscrew-2Bdislocation-300x143.jpg)\n",
    "#### Image credit: resarchgate.net"
   ]
  },
  {
   "cell_type": "code",
   "execution_count": null,
   "metadata": {},
   "outputs": [],
   "source": []
  }
 ],
 "metadata": {
  "kernelspec": {
   "display_name": "Python 3",
   "language": "python",
   "name": "python3"
  },
  "language_info": {
   "codemirror_mode": {
    "name": "ipython",
    "version": 3
   },
   "file_extension": ".py",
   "mimetype": "text/x-python",
   "name": "python",
   "nbconvert_exporter": "python",
   "pygments_lexer": "ipython3",
   "version": "3.8.3"
  }
 },
 "nbformat": 4,
 "nbformat_minor": 4
}
